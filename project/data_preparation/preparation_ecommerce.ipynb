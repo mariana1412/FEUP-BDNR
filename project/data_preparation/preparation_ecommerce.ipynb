{
 "cells": [
  {
   "cell_type": "code",
   "execution_count": 12,
   "metadata": {},
   "outputs": [],
   "source": [
    "import pandas as pd\n",
    "import numpy as np\n",
    "import uuid\n",
    "import json"
   ]
  },
  {
   "cell_type": "code",
   "execution_count": 13,
   "metadata": {},
   "outputs": [],
   "source": [
    "df = pd.read_csv('data/ecommerce/ecommerce.csv')"
   ]
  },
  {
   "cell_type": "code",
   "execution_count": 14,
   "metadata": {},
   "outputs": [],
   "source": [
    "df.drop(['desc2', 'fit', 'fulldescription', 'url'], inplace=True, axis=1)\n",
    "df.rename(columns={'itemid': 'id'}, inplace=True)"
   ]
  },
  {
   "cell_type": "code",
   "execution_count": 15,
   "metadata": {},
   "outputs": [
    {
     "data": {
      "text/plain": [
       "0                                                       []\n",
       "1        ['Bright Sapphire', 'Cactus', 'Night', 'Teal S...\n",
       "2                                    ['Mossy Oak Country']\n",
       "3                                                  ['Owl']\n",
       "4                                      ['Dark Gray Multi']\n",
       "                               ...                        \n",
       "25118    ['Boulder', 'Cream', 'Desert Sage', 'Mariner B...\n",
       "25119                                            ['Multi']\n",
       "25120                                            ['Cream']\n",
       "25121    ['Bluegrass', 'Heather Gray', 'Mariner Blue', ...\n",
       "25122    ['Mariner Blue', 'Sea Salt', 'Gray Heather/Cre...\n",
       "Name: colorname, Length: 25123, dtype: object"
      ]
     },
     "execution_count": 15,
     "metadata": {},
     "output_type": "execute_result"
    }
   ],
   "source": [
    "df.colorname"
   ]
  },
  {
   "cell_type": "code",
   "execution_count": 16,
   "metadata": {},
   "outputs": [],
   "source": [
    "df['stock'] = np.random.randint(0, 300, df.shape[0])\n",
    "df['price'] = np.round(np.random.uniform(0.01, 100.00, df.shape[0]), 2)\n",
    "df['rating'] = np.round(np.random.uniform(0.0, 5.0, df.shape[0]), 1)"
   ]
  },
  {
   "cell_type": "code",
   "execution_count": 17,
   "metadata": {},
   "outputs": [],
   "source": [
    "def desc(row):\n",
    "    return row.description[2:-2]\n",
    "\n",
    "df['description'] = df.apply(desc, axis=1)"
   ]
  },
  {
   "cell_type": "code",
   "execution_count": 18,
   "metadata": {},
   "outputs": [],
   "source": [
    "def id(row):\n",
    "    return row.id[2:-2]\n",
    "\n",
    "df['id'] = df.apply(id, axis=1)"
   ]
  },
  {
   "cell_type": "code",
   "execution_count": 19,
   "metadata": {},
   "outputs": [],
   "source": [
    "def generateId(row):\n",
    "    random = uuid.uuid4()\n",
    "    ids = df.id\n",
    "    while random in ids:\n",
    "        random = uuid.uuid4()\n",
    "    return random\n",
    "\n",
    "df['id'] = df.apply(generateId, axis=1)"
   ]
  },
  {
   "cell_type": "code",
   "execution_count": null,
   "metadata": {},
   "outputs": [],
   "source": [
    "df['store'] = \"ecommerce\"\n",
    "\n",
    "df['Id'] = [\"products/ecommerce/\" + str(x) for x in range(1, len(df) + 1)]\n",
    "\n",
    "df.drop(columns='id', inplace=True)"
   ]
  },
  {
   "cell_type": "code",
   "execution_count": null,
   "metadata": {},
   "outputs": [],
   "source": [
    "df.to_csv('data/ecommerce/products_ecommerce.csv', encoding='utf-8', index=False)"
   ]
  },
  {
   "cell_type": "code",
   "execution_count": null,
   "metadata": {},
   "outputs": [],
   "source": [
    "parsed = json.loads(df.to_json(orient=\"records\", default_handler=str))\n",
    "\n",
    "json_string = json.dumps(parsed, indent=4)\n",
    "with open('data/output/ecommerce.json', 'w') as outfile:\n",
    "    outfile.write(json_string)"
   ]
  }
 ],
 "metadata": {
  "interpreter": {
   "hash": "8ac5f14c271fb9d9ce5af4be951da16f6fbc3540c472bf4cbd3b50d26b8b6703"
  },
  "kernelspec": {
   "display_name": "Python 3.9.7 64-bit",
   "language": "python",
   "name": "python3"
  },
  "language_info": {
   "codemirror_mode": {
    "name": "ipython",
    "version": 3
   },
   "file_extension": ".py",
   "mimetype": "text/x-python",
   "name": "python",
   "nbconvert_exporter": "python",
   "pygments_lexer": "ipython3",
   "version": "3.9.7"
  },
  "orig_nbformat": 4
 },
 "nbformat": 4,
 "nbformat_minor": 2
}
