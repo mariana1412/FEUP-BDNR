{
 "cells": [
  {
   "cell_type": "code",
   "execution_count": 15,
   "metadata": {},
   "outputs": [],
   "source": [
    "import pandas as pd\n",
    "import numpy as np\n",
    "import uuid"
   ]
  },
  {
   "cell_type": "code",
   "execution_count": 16,
   "metadata": {},
   "outputs": [],
   "source": [
    "df = pd.read_csv('data/ecommerce/ecommerce.csv')"
   ]
  },
  {
   "cell_type": "code",
   "execution_count": 17,
   "metadata": {},
   "outputs": [],
   "source": [
    "df.drop(['desc2', 'fit', 'fulldescription', 'url'], inplace=True, axis=1)\n",
    "df.rename(columns={'itemid': 'id'}, inplace=True)"
   ]
  },
  {
   "cell_type": "code",
   "execution_count": 24,
   "metadata": {},
   "outputs": [
    {
     "data": {
      "text/plain": [
       "0                                                       []\n",
       "1        ['Bright Sapphire', 'Cactus', 'Night', 'Teal S...\n",
       "2                                    ['Mossy Oak Country']\n",
       "3                                                  ['Owl']\n",
       "4                                      ['Dark Gray Multi']\n",
       "                               ...                        \n",
       "25118    ['Boulder', 'Cream', 'Desert Sage', 'Mariner B...\n",
       "25119                                            ['Multi']\n",
       "25120                                            ['Cream']\n",
       "25121    ['Bluegrass', 'Heather Gray', 'Mariner Blue', ...\n",
       "25122    ['Mariner Blue', 'Sea Salt', 'Gray Heather/Cre...\n",
       "Name: colorname, Length: 25123, dtype: object"
      ]
     },
     "execution_count": 24,
     "metadata": {},
     "output_type": "execute_result"
    }
   ],
   "source": [
    "df.colorname"
   ]
  },
  {
   "cell_type": "code",
   "execution_count": 18,
   "metadata": {},
   "outputs": [],
   "source": [
    "df['stock'] = np.random.randint(0, 300, df.shape[0])\n",
    "df['price'] = np.round(np.random.uniform(0.01, 100.00, df.shape[0]), 2)\n",
    "df['rating'] = np.round(np.random.uniform(0.0, 5.0, df.shape[0]), 1)"
   ]
  },
  {
   "cell_type": "code",
   "execution_count": 19,
   "metadata": {},
   "outputs": [],
   "source": [
    "def desc(row):\n",
    "    return row.description[2:-2]\n",
    "\n",
    "df['description'] = df.apply(desc, axis=1)"
   ]
  },
  {
   "cell_type": "code",
   "execution_count": 20,
   "metadata": {},
   "outputs": [],
   "source": [
    "def id(row):\n",
    "    return row.id[2:-2]\n",
    "\n",
    "df['id'] = df.apply(id, axis=1)"
   ]
  },
  {
   "cell_type": "code",
   "execution_count": 21,
   "metadata": {},
   "outputs": [],
   "source": [
    "def generateId(row):\n",
    "    random = uuid.uuid4()\n",
    "    ids = df.id\n",
    "    while random in ids:\n",
    "        random = uuid.uuid4()\n",
    "    return random\n",
    "\n",
    "df['id'] = df.apply(generateId, axis=1)"
   ]
  },
  {
   "cell_type": "code",
   "execution_count": 22,
   "metadata": {},
   "outputs": [],
   "source": [
    "df['store'] = \"ecommerce\""
   ]
  },
  {
   "cell_type": "code",
   "execution_count": 23,
   "metadata": {},
   "outputs": [],
   "source": [
    "df.to_csv('data/ecommerce/products_ecommerce.csv', encoding='utf-8', index=False)"
   ]
  }
 ],
 "metadata": {
  "interpreter": {
   "hash": "e1e2229a1fa9870ee33783501b0558f0ddbc8a2ab996f1e23e75624c7e4b09f8"
  },
  "kernelspec": {
   "display_name": "Python 3.9.7 ('base')",
   "language": "python",
   "name": "python3"
  },
  "language_info": {
   "codemirror_mode": {
    "name": "ipython",
    "version": 3
   },
   "file_extension": ".py",
   "mimetype": "text/x-python",
   "name": "python",
   "nbconvert_exporter": "python",
   "pygments_lexer": "ipython3",
   "version": "3.9.7"
  },
  "orig_nbformat": 4
 },
 "nbformat": 4,
 "nbformat_minor": 2
}
