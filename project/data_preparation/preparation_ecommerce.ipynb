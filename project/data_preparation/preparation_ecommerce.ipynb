{
 "cells": [
  {
   "cell_type": "code",
   "execution_count": 1,
   "metadata": {},
   "outputs": [],
   "source": [
    "import pandas as pd\n",
    "import numpy as np\n",
    "import json"
   ]
  },
  {
   "cell_type": "code",
   "execution_count": 2,
   "metadata": {},
   "outputs": [],
   "source": [
    "df = pd.read_csv('data/ecommerce/ecommerce.csv')"
   ]
  },
  {
   "cell_type": "code",
   "execution_count": null,
   "metadata": {},
   "outputs": [],
   "source": [
    "df.drop(['desc2', 'fit', 'fulldescription', 'url'], inplace=True, axis=1)\n",
    "df.rename(columns={'itemid': 'id'}, inplace=True)\n",
    "df['description'].fillna(\"\", inplace=True)"
   ]
  },
  {
   "cell_type": "code",
   "execution_count": null,
   "metadata": {},
   "outputs": [],
   "source": [
    "df.drop_duplicates(subset=['name'], inplace=True)\n",
    "df.dropna(subset=['name'], inplace=True)"
   ]
  },
  {
   "cell_type": "code",
   "execution_count": null,
   "metadata": {},
   "outputs": [],
   "source": [
    "df['name'] = df['name'].apply(lambda x: \" \".join(str(x).split()))\n",
    "df['description'] = df['description'].apply(lambda x: \" \".join(str(x).split()))"
   ]
  },
  {
   "cell_type": "code",
   "execution_count": null,
   "metadata": {},
   "outputs": [],
   "source": [
    "df['stock'] = np.random.randint(0, 300, df.shape[0])\n",
    "df['price'] = np.round(np.random.uniform(0.01, 100.00, df.shape[0]), 2)\n",
    "df['rating'] = np.round(np.random.uniform(0.0, 5.0, df.shape[0]), 1)"
   ]
  },
  {
   "cell_type": "code",
   "execution_count": null,
   "metadata": {},
   "outputs": [],
   "source": [
    "def desc(row):\n",
    "    return row.description[2:-2]\n",
    "\n",
    "df['description'] = df.apply(desc, axis=1)\n",
    "df['description'].fillna(\"\", inplace=True)"
   ]
  },
  {
   "cell_type": "code",
   "execution_count": null,
   "metadata": {},
   "outputs": [],
   "source": [
    "df['store'] = \"ecommerce\"\n",
    "df['category'] = df.apply(lambda x: [], axis=1)\n",
    "\n",
    "df['Id'] = [\"products/ecommerce/\" + str(x) for x in range(1, len(df) + 1)]\n",
    "\n",
    "df.drop(columns='id', inplace=True)"
   ]
  },
  {
   "cell_type": "code",
   "execution_count": null,
   "metadata": {},
   "outputs": [],
   "source": [
    "df.to_csv('data/ecommerce/products.csv', encoding='utf-8', index=False)"
   ]
  },
  {
   "cell_type": "code",
   "execution_count": null,
   "metadata": {},
   "outputs": [],
   "source": [
    "parsed = json.loads(df.to_json(orient=\"records\", default_handler=str))\n",
    "\n",
    "json_string = json.dumps(parsed, indent=4)\n",
    "with open('data/output/ecommerce.json', 'w') as outfile:\n",
    "    outfile.write(json_string)"
   ]
  }
 ],
 "metadata": {
  "interpreter": {
   "hash": "ca02d05c83cb06a4d3d1bb3c2ad95bd9ee4b26f688526444572dc942a69d580d"
  },
  "kernelspec": {
   "display_name": "Python 3.9.7 ('base')",
   "language": "python",
   "name": "python3"
  },
  "language_info": {
   "codemirror_mode": {
    "name": "ipython",
    "version": 3
   },
   "file_extension": ".py",
   "mimetype": "text/x-python",
   "name": "python",
   "nbconvert_exporter": "python",
   "pygments_lexer": "ipython3",
   "version": "3.9.7"
  },
  "orig_nbformat": 4
 },
 "nbformat": 4,
 "nbformat_minor": 2
}
