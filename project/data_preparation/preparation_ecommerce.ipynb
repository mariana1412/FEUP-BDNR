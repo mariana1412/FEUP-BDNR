{
 "cells": [
  {
   "cell_type": "code",
   "execution_count": 25,
   "metadata": {},
   "outputs": [],
   "source": [
    "import pandas as pd\n",
    "import numpy as np\n",
    "import uuid"
   ]
  },
  {
   "cell_type": "code",
   "execution_count": 26,
   "metadata": {},
   "outputs": [],
   "source": [
    "df = pd.read_csv('datasets/ecommerce/ecommerce.csv')"
   ]
  },
  {
   "cell_type": "code",
   "execution_count": 27,
   "metadata": {},
   "outputs": [],
   "source": [
    "df.drop(['colorname', 'desc2', 'fit', 'fulldescription', 'fitinfo', 'url'], inplace=True, axis=1)\n",
    "df.rename(columns={'itemid': 'id'}, inplace=True)"
   ]
  },
  {
   "cell_type": "code",
   "execution_count": 28,
   "metadata": {},
   "outputs": [],
   "source": [
    "df['stock'] = np.random.randint(0, 300, df.shape[0])\n",
    "df['price'] = np.round(np.random.uniform(0.01, 100.00, df.shape[0]), 2)\n",
    "df['rating'] = np.round(np.random.uniform(0.0, 5.0, df.shape[0]), 1)\n",
    "df['brand'] = \"\"\n",
    "df['category'] = np.empty((len(df), 0)).tolist()\n",
    "df['reviews'] = np.empty((len(df), 0)).tolist()"
   ]
  },
  {
   "cell_type": "code",
   "execution_count": 29,
   "metadata": {},
   "outputs": [],
   "source": [
    "def desc(row):\n",
    "    return row.description[2:-2]\n",
    "\n",
    "df['description'] = df.apply(desc, axis=1)"
   ]
  },
  {
   "cell_type": "code",
   "execution_count": 30,
   "metadata": {},
   "outputs": [],
   "source": [
    "def id(row):\n",
    "    return row.id[2:-2]\n",
    "\n",
    "df['id'] = df.apply(id, axis=1)"
   ]
  },
  {
   "cell_type": "code",
   "execution_count": 31,
   "metadata": {},
   "outputs": [],
   "source": [
    "def generateId(row):\n",
    "    random = uuid.uuid4()\n",
    "    ids = df.id\n",
    "    while random in ids:\n",
    "        random = uuid.uuid4()\n",
    "    return random\n",
    "\n",
    "df['id'] = df.apply(generateId, axis=1)"
   ]
  },
  {
   "cell_type": "code",
   "execution_count": 32,
   "metadata": {},
   "outputs": [],
   "source": [
    "df['store'] = \"ecommerce\""
   ]
  },
  {
   "cell_type": "code",
   "execution_count": 33,
   "metadata": {},
   "outputs": [],
   "source": [
    "df.to_csv('datasets/ecommerce/products_ecommerce.csv', encoding='utf-8', index=False)"
   ]
  }
 ],
 "metadata": {
  "interpreter": {
   "hash": "e1e2229a1fa9870ee33783501b0558f0ddbc8a2ab996f1e23e75624c7e4b09f8"
  },
  "kernelspec": {
   "display_name": "Python 3.9.7 ('base')",
   "language": "python",
   "name": "python3"
  },
  "language_info": {
   "codemirror_mode": {
    "name": "ipython",
    "version": 3
   },
   "file_extension": ".py",
   "mimetype": "text/x-python",
   "name": "python",
   "nbconvert_exporter": "python",
   "pygments_lexer": "ipython3",
   "version": "3.9.7"
  },
  "orig_nbformat": 4
 },
 "nbformat": 4,
 "nbformat_minor": 2
}
