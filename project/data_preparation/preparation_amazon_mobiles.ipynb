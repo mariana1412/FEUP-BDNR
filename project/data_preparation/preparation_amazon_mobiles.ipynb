{
 "cells": [
  {
   "cell_type": "code",
   "execution_count": 1,
   "metadata": {},
   "outputs": [],
   "source": [
    "import pandas as pd\n",
    "import numpy as np\n",
    "import json\n",
    "import random"
   ]
  },
  {
   "cell_type": "code",
   "execution_count": 2,
   "metadata": {},
   "outputs": [],
   "source": [
    "df_items = pd.read_csv('data/amazon_mobiles/items.csv')\n",
    "df_reviews = pd.read_csv('data/amazon_mobiles/reviews.csv')"
   ]
  },
  {
   "cell_type": "code",
   "execution_count": 3,
   "metadata": {},
   "outputs": [],
   "source": [
    "df_items.drop(['Unnamed: 0', 'url', 'reviewUrl', 'screen_size', 'memory_storage_capacity', 'originalPrice', 'totalRatings', 'about'], inplace=True, axis=1)\n",
    "df_items.rename(columns={'title': 'name', 'rating_item': 'rating', 'asin': 'id', 'more': 'about'}, inplace=True)"
   ]
  },
  {
   "cell_type": "code",
   "execution_count": 4,
   "metadata": {},
   "outputs": [],
   "source": [
    "df_items.drop_duplicates(subset=['name'], inplace=True)\n",
    "df_items.dropna(subset=['name'], inplace=True)"
   ]
  },
  {
   "cell_type": "code",
   "execution_count": 5,
   "metadata": {},
   "outputs": [],
   "source": [
    "df_items['price'] = [round(random.uniform(0.01, 300), ndigits=2) for i in range(df_items.shape[0])]\n",
    "df_items['store'] = 'mobiles'\n",
    "df_items['category'] = df_items.apply(lambda x: [\"mobiles\"], axis=1)\n",
    "df_items['rating'] = [round(random.uniform(0.0, 5.0), ndigits=1) for i in range(df_items.shape[0])]"
   ]
  },
  {
   "cell_type": "code",
   "execution_count": 6,
   "metadata": {},
   "outputs": [],
   "source": [
    "df_reviews.drop(['verified', 'helpfulVotes', 'country'], inplace=True, axis=1)"
   ]
  },
  {
   "cell_type": "code",
   "execution_count": 7,
   "metadata": {},
   "outputs": [],
   "source": [
    "def getReviews(row, reviews_parsed):\n",
    "    aux = {'author': row['name'], 'rating': row['rating'], 'date': row['date'], 'title': row['title'], 'body': row['body']}\n",
    "    reviews_parsed.append(aux)"
   ]
  },
  {
   "cell_type": "code",
   "execution_count": 8,
   "metadata": {},
   "outputs": [],
   "source": [
    "def mergeReviews(row):\n",
    "    reviews = df_reviews.loc[df_reviews['asin'] == row['id']]\n",
    "    reviews_parsed = []\n",
    "    reviews.apply(getReviews, reviews_parsed=reviews_parsed, axis=1)\n",
    "    return reviews_parsed\n",
    "\n",
    "df_items['reviews'] = df_items.apply(mergeReviews, axis=1)"
   ]
  },
  {
   "cell_type": "code",
   "execution_count": 9,
   "metadata": {},
   "outputs": [],
   "source": [
    "df_items['Id'] = [\"products/mobiles/\" + str(x) for x in range(1, len(df_items) + 1)]\n",
    "df_items['stock'] = np.random.randint(0, 300, df_items.shape[0])\n",
    "df_items.drop(columns='id', inplace=True)"
   ]
  },
  {
   "cell_type": "code",
   "execution_count": 10,
   "metadata": {},
   "outputs": [],
   "source": [
    "df_items.to_csv('data/amazon_mobiles/products.csv', encoding='utf-8', index=False)"
   ]
  },
  {
   "cell_type": "code",
   "execution_count": 11,
   "metadata": {},
   "outputs": [],
   "source": [
    "parsed = json.loads(df_items.to_json(orient=\"records\", default_handler=str))\n",
    "\n",
    "json_string = json.dumps(parsed, indent=4)\n",
    "with open('data/output/amazon_mobiles.json', 'w') as outfile:\n",
    "    outfile.write(json_string)"
   ]
  }
 ],
 "metadata": {
  "interpreter": {
   "hash": "ca02d05c83cb06a4d3d1bb3c2ad95bd9ee4b26f688526444572dc942a69d580d"
  },
  "kernelspec": {
   "display_name": "Python 3.9.7 ('base')",
   "language": "python",
   "name": "python3"
  },
  "language_info": {
   "codemirror_mode": {
    "name": "ipython",
    "version": 3
   },
   "file_extension": ".py",
   "mimetype": "text/x-python",
   "name": "python",
   "nbconvert_exporter": "python",
   "pygments_lexer": "ipython3",
   "version": "3.9.7"
  },
  "orig_nbformat": 4
 },
 "nbformat": 4,
 "nbformat_minor": 2
}
