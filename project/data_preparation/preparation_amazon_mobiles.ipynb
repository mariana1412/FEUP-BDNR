{
 "cells": [
  {
   "cell_type": "code",
   "execution_count": 10,
   "metadata": {},
   "outputs": [],
   "source": [
    "import pandas as pd\n",
    "import numpy as np"
   ]
  },
  {
   "cell_type": "code",
   "execution_count": 11,
   "metadata": {},
   "outputs": [],
   "source": [
    "df_items = pd.read_csv('datasets/amazon_mobiles/items.csv')\n",
    "df_reviews = pd.read_csv('datasets/amazon_mobiles/reviews.csv')"
   ]
  },
  {
   "cell_type": "code",
   "execution_count": 12,
   "metadata": {},
   "outputs": [],
   "source": [
    "df_items.rename(columns={'title_item': 'name', 'rating_item': 'rating', 'asin': 'id'}, inplace=True)\n",
    "df_items.drop(['Unnamed: 0', 'url', 'reviewUrl', 'cellular_technology', 'wireless_carrier', 'operating_system', 'color', 'screen_size', 'memory_storage_capacity', 'more', 'originalPrice', 'totalRatings', 'about'], inplace=True, axis=1)\n",
    "df_items['stock'] = np.random.randint(0, 300, df_items.shape[0])"
   ]
  },
  {
   "cell_type": "code",
   "execution_count": 13,
   "metadata": {},
   "outputs": [],
   "source": [
    "df_reviews.drop(['verified', 'helpfulVotes', 'country'], inplace=True, axis=1)"
   ]
  },
  {
   "cell_type": "code",
   "execution_count": 14,
   "metadata": {},
   "outputs": [],
   "source": [
    "def getReviews(row, reviews_parsed):\n",
    "    aux = {'author': row['name'], 'rating': row['rating'], 'date': row['date'], 'title': row['title'], 'body': row['body']}\n",
    "    reviews_parsed.append(aux)"
   ]
  },
  {
   "cell_type": "code",
   "execution_count": 15,
   "metadata": {},
   "outputs": [],
   "source": [
    "def mergeReviews(row):\n",
    "    reviews = df_reviews.loc[df_reviews['asin'] == row['id']]\n",
    "    reviews_parsed = []\n",
    "    reviews.apply(getReviews, reviews_parsed=reviews_parsed, axis=1)\n",
    "    return reviews_parsed\n",
    "\n",
    "df_items['reviews'] = df_items.apply(mergeReviews, axis=1)"
   ]
  },
  {
   "cell_type": "code",
   "execution_count": 16,
   "metadata": {},
   "outputs": [],
   "source": [
    "df_items.to_csv('datasets/amazon_mobiles/products_amazon_mobiles.csv', encoding='utf-8', index=False)"
   ]
  }
 ],
 "metadata": {
  "interpreter": {
   "hash": "e1e2229a1fa9870ee33783501b0558f0ddbc8a2ab996f1e23e75624c7e4b09f8"
  },
  "kernelspec": {
   "display_name": "Python 3.9.7 ('base')",
   "language": "python",
   "name": "python3"
  },
  "language_info": {
   "codemirror_mode": {
    "name": "ipython",
    "version": 3
   },
   "file_extension": ".py",
   "mimetype": "text/x-python",
   "name": "python",
   "nbconvert_exporter": "python",
   "pygments_lexer": "ipython3",
   "version": "3.9.7"
  },
  "orig_nbformat": 4
 },
 "nbformat": 4,
 "nbformat_minor": 2
}
