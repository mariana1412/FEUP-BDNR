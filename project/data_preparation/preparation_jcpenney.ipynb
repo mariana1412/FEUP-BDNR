{
 "cells": [
  {
   "cell_type": "code",
   "execution_count": 12,
   "metadata": {},
   "outputs": [],
   "source": [
    "import pandas as pd\n",
    "import numpy as np\n",
    "import names, json\n",
    "import random"
   ]
  },
  {
   "cell_type": "code",
   "execution_count": 13,
   "metadata": {},
   "outputs": [],
   "source": [
    "df = pd.read_csv('data/jcpenney/jcpenney.csv')"
   ]
  },
  {
   "cell_type": "code",
   "execution_count": 14,
   "metadata": {},
   "outputs": [],
   "source": [
    "df.drop(['sku', 'sale_price', 'category', 'product_url', 'total_number_reviews'], inplace=True, axis=1)\n",
    "df.rename(columns={'uniq_id': 'id', 'name_title': 'name', 'list_price': 'price', 'average_product_rating': 'rating', 'product_image_urls': 'image', 'Reviews': 'reviews', 'category_tree': 'category'}, inplace=True)"
   ]
  },
  {
   "cell_type": "code",
   "execution_count": 15,
   "metadata": {},
   "outputs": [],
   "source": [
    "df.drop_duplicates(subset=['name'], inplace=True)\n",
    "df.dropna(subset=['name'], inplace=True)"
   ]
  },
  {
   "cell_type": "code",
   "execution_count": 16,
   "metadata": {},
   "outputs": [],
   "source": [
    "df['name'] = df['name'].apply(lambda x: \" \".join(str(x).split()))\n",
    "df['description'] = df['description'].apply(lambda x: \" \".join(str(x).split()))\n",
    "df['description'].fillna(\"\", inplace=True)"
   ]
  },
  {
   "cell_type": "code",
   "execution_count": 17,
   "metadata": {},
   "outputs": [],
   "source": [
    "# RATING\n",
    "df['rating'] = df['rating'].str.replace(' out of 5', '')\n",
    "df['rating'].fillna(np.round(np.random.uniform(0, 5.0), 1), inplace=True)\n",
    "df['rating'] = pd.to_numeric(df['rating'], errors='coerce')"
   ]
  },
  {
   "cell_type": "code",
   "execution_count": 18,
   "metadata": {},
   "outputs": [],
   "source": [
    "df['category'] = df['category'].apply(lambda x: \" \".join(str(x).split()))\n",
    "df['category'] = df['category'].str.split('|')\n",
    "df['category'] = df['category'].fillna(\"\").apply(list);\n",
    "\n",
    "df['stock'] = np.random.randint(1000, size=df.shape[0])\n",
    "df['store'] = 'jcpenney'\n",
    "df['price'] = [round(random.uniform(0.01, 300), ndigits=2) for i in range(df.shape[0])]\n",
    "df['description'].fillna(\"\", inplace=True)"
   ]
  },
  {
   "cell_type": "code",
   "execution_count": 19,
   "metadata": {},
   "outputs": [],
   "source": [
    "def parseReviews(row):\n",
    "    try:\n",
    "        st = row.reviews[13:-3]\n",
    "        st = st.split('}, {')\n",
    "\n",
    "        reviews = []\n",
    "        i = 1\n",
    "        for s in st:\n",
    "            string = '\"review_' + str(i) + '\"=>'\n",
    "            review = s.replace(string, '')\n",
    "            review = review[1:-1]\n",
    "            review = \" \".join(review.split())\n",
    "            i += 1\n",
    "            aux = {'author': names.get_full_name(), 'rating': np.round(np.random.uniform(0.1, 5.0), 1), 'date': '2018-2-5', 'title': \"\", 'body': review}\n",
    "            reviews.append(aux)\n",
    "        return reviews\n",
    "    except:\n",
    "        return []\n",
    "\n",
    "df['reviews'] = df.apply(parseReviews, axis=1)\n",
    "df['Id'] = [\"products/jcpenney/\" + str(x) for x in range(1, len(df) + 1)]\n",
    "df.drop(columns='id', inplace=True)"
   ]
  },
  {
   "cell_type": "code",
   "execution_count": 20,
   "metadata": {},
   "outputs": [],
   "source": [
    "df.to_csv('data/jcpenney/products.csv', encoding='utf-8', index=False)"
   ]
  },
  {
   "cell_type": "code",
   "execution_count": 21,
   "metadata": {},
   "outputs": [],
   "source": [
    "parsed = json.loads(df.to_json(orient=\"records\", default_handler=str))\n",
    "\n",
    "json_string = json.dumps(parsed, indent=4)\n",
    "with open('data/output/jcpenney.json', 'w') as outfile:\n",
    "    outfile.write(json_string)"
   ]
  }
 ],
 "metadata": {
  "interpreter": {
   "hash": "ca02d05c83cb06a4d3d1bb3c2ad95bd9ee4b26f688526444572dc942a69d580d"
  },
  "kernelspec": {
   "display_name": "Python 3.9.7 ('base')",
   "language": "python",
   "name": "python3"
  },
  "language_info": {
   "codemirror_mode": {
    "name": "ipython",
    "version": 3
   },
   "file_extension": ".py",
   "mimetype": "text/x-python",
   "name": "python",
   "nbconvert_exporter": "python",
   "pygments_lexer": "ipython3",
   "version": "3.9.7"
  },
  "orig_nbformat": 4
 },
 "nbformat": 4,
 "nbformat_minor": 2
}
