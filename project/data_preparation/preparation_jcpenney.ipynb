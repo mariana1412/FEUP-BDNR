{
 "cells": [
  {
   "cell_type": "code",
   "execution_count": 1,
   "metadata": {},
   "outputs": [],
   "source": [
    "import pandas as pd\n",
    "import numpy as np\n",
    "import names"
   ]
  },
  {
   "cell_type": "code",
   "execution_count": 2,
   "metadata": {},
   "outputs": [],
   "source": [
    "df = pd.read_csv('datasets/jcpenney/jcpenney.csv')"
   ]
  },
  {
   "cell_type": "code",
   "execution_count": 3,
   "metadata": {},
   "outputs": [],
   "source": [
    "df.drop(['sku', 'sale_price', 'category', 'product_url', 'total_number_reviews'], inplace=True, axis=1)\n",
    "df.rename(columns={'uniq_id': 'id', 'name_title': 'name', 'list_price': 'price', 'average_product_rating': 'rating', 'product_image_urls': 'image', 'Reviews': 'reviews', 'category_tree': 'category'}, inplace=True)"
   ]
  },
  {
   "cell_type": "code",
   "execution_count": 4,
   "metadata": {},
   "outputs": [],
   "source": [
    "# DELETE DUPLICATED ROWS\n",
    "to_mantain_index = []\n",
    "to_mantain_name = []\n",
    "def deleteRows(row):\n",
    "    if row['name'] not in to_mantain_name:\n",
    "        to_mantain_index.append(row.name)\n",
    "        to_mantain_name.append(row['name'])\n",
    "\n",
    "df.apply(deleteRows, axis=1)\n",
    "df = df.loc[to_mantain_index]"
   ]
  },
  {
   "cell_type": "code",
   "execution_count": 5,
   "metadata": {},
   "outputs": [],
   "source": [
    "# RATING\n",
    "df['rating'] = df['rating'].str.replace(' out of 5','')\n",
    "df['rating'] = pd.to_numeric(df['rating'], errors='coerce')"
   ]
  },
  {
   "cell_type": "code",
   "execution_count": 6,
   "metadata": {},
   "outputs": [],
   "source": [
    "df['category'] = df['category'].str.split('|')\n",
    "df['stock'] = np.random.randint(0, 300, df.shape[0])\n",
    "df['store'] = 'jcpenney'"
   ]
  },
  {
   "cell_type": "code",
   "execution_count": 7,
   "metadata": {},
   "outputs": [],
   "source": [
    "def parseReviews(row):\n",
    "    try:\n",
    "        st = row.reviews[13:-3]\n",
    "        st = st.split('}, {')\n",
    "\n",
    "        reviews = []\n",
    "        i = 1\n",
    "        for s in st:\n",
    "            string = '\"review_' + str(i) + '\"=>'\n",
    "            review = s.replace(string, '')\n",
    "            review = review[1:-1]\n",
    "            review = \" \".join(review.split())\n",
    "            i += 1\n",
    "            aux = {'author': names.get_full_name(), 'rating': np.round(np.random.uniform(0.1, 5.0), 1), 'date': '2018-2-5', 'title': \"\", 'body': review}\n",
    "            reviews.append(aux)\n",
    "        return reviews\n",
    "    except:\n",
    "        return []\n",
    "\n",
    "df['reviews'] = df.apply(parseReviews, axis=1)"
   ]
  },
  {
   "cell_type": "code",
   "execution_count": null,
   "metadata": {},
   "outputs": [],
   "source": [
    "df.to_csv('datasets/jcpenney/products_jcpenney.csv', encoding='utf-8', index=False)"
   ]
  }
 ],
 "metadata": {
  "interpreter": {
   "hash": "e1e2229a1fa9870ee33783501b0558f0ddbc8a2ab996f1e23e75624c7e4b09f8"
  },
  "kernelspec": {
   "display_name": "Python 3.9.7 ('base')",
   "language": "python",
   "name": "python3"
  },
  "language_info": {
   "codemirror_mode": {
    "name": "ipython",
    "version": 3
   },
   "file_extension": ".py",
   "mimetype": "text/x-python",
   "name": "python",
   "nbconvert_exporter": "python",
   "pygments_lexer": "ipython3",
   "version": "3.9.7"
  },
  "orig_nbformat": 4
 },
 "nbformat": 4,
 "nbformat_minor": 2
}
