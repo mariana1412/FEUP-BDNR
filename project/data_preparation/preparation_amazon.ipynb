{
 "cells": [
  {
   "cell_type": "code",
   "execution_count": 11,
   "metadata": {},
   "outputs": [],
   "source": [
    "import pandas as pd\n",
    "import re\n",
    "import json\n",
    "import random\n",
    "import numpy as np"
   ]
  },
  {
   "cell_type": "code",
   "execution_count": 12,
   "metadata": {},
   "outputs": [],
   "source": [
    "df = pd.read_csv('data/amazon/amazon.csv')"
   ]
  },
  {
   "cell_type": "code",
   "execution_count": 13,
   "metadata": {},
   "outputs": [],
   "source": [
    "df.rename(columns={'uniq_id': 'id', 'product_name': 'name', 'manufacturer': 'brand', 'number_available_in_stock': 'stock', 'average_review_rating': 'rating', 'amazon_category_and_sub_category': 'category', 'customer_reviews': 'reviews'}, inplace=True)\n",
    "df.drop(['number_of_reviews', 'number_of_answered_questions', 'customers_who_bought_this_item_also_bought', 'product_description', 'items_customers_buy_after_viewing_this_item', 'customer_questions_and_answers', 'sellers'], inplace=True, axis=1)"
   ]
  },
  {
   "cell_type": "code",
   "execution_count": 14,
   "metadata": {},
   "outputs": [],
   "source": [
    "df.drop_duplicates(subset=['name'], inplace=True)"
   ]
  },
  {
   "cell_type": "code",
   "execution_count": 15,
   "metadata": {},
   "outputs": [],
   "source": [
    "# PRICE\n",
    "df['price'] = df['price'].str.replace('£','') # remove £ - price\n",
    "df['price'] = pd.to_numeric(df['price'], errors='coerce')\n",
    "df['price'].fillna(random.uniform(0.01, 300), inplace=True)\n",
    "df = df.round({\"price\": 2})"
   ]
  },
  {
   "cell_type": "code",
   "execution_count": 16,
   "metadata": {},
   "outputs": [],
   "source": [
    "# STOCK\n",
    "df['stock'] = np.random.randint(0, 300, df.shape[0])"
   ]
  },
  {
   "cell_type": "code",
   "execution_count": 17,
   "metadata": {},
   "outputs": [],
   "source": [
    "# RATING\n",
    "df['rating'] = df['rating'].str.replace(' out of 5 stars','')\n",
    "df['rating'] = pd.to_numeric(df['rating'], errors='coerce')"
   ]
  },
  {
   "cell_type": "code",
   "execution_count": 18,
   "metadata": {},
   "outputs": [],
   "source": [
    "# CATEGORY\n",
    "df['category'] = df['category'].str.split(' > ')"
   ]
  },
  {
   "cell_type": "code",
   "execution_count": 19,
   "metadata": {},
   "outputs": [],
   "source": [
    "# REVIEWS\n",
    "df['reviews'] = df['reviews'].str.split('|')"
   ]
  },
  {
   "cell_type": "code",
   "execution_count": 20,
   "metadata": {},
   "outputs": [],
   "source": [
    "def parseDate(string):\n",
    "    d = string.split()\n",
    "    month = d[1]\n",
    "    months = {'Jan.': 1, 'Feb.': 2, 'Mar.': 3, 'April': 4, 'May': 5, 'Jun.': 6, 'July': 7, 'Aug.': 8, 'Sept.': 9, 'Oct.': 10, 'Nov.': 11, 'Dec.': 12}\n",
    "    month = months[month]\n",
    "    date = d[2] + \"-\" + str(month) + \"-\" + d[0]\n",
    "    return date"
   ]
  },
  {
   "cell_type": "code",
   "execution_count": 21,
   "metadata": {},
   "outputs": [],
   "source": [
    "def parseAuthor(string):\n",
    "    try:\n",
    "        s = re.findall(r'By (.+?) on', string)\n",
    "        return s[0]\n",
    "    except:\n",
    "        return \"\"\n",
    "    "
   ]
  },
  {
   "cell_type": "code",
   "execution_count": 22,
   "metadata": {},
   "outputs": [],
   "source": [
    "def splitreviews(row):\n",
    "    reviews = row.reviews\n",
    "    r = []\n",
    "    try:\n",
    "        for review in reviews:\n",
    "            review = \" \".join(review.split())\n",
    "            rev = review.split(' // ')\n",
    "            author = parseAuthor(rev[3])\n",
    "            date = parseDate(rev[2])\n",
    "            aux = {'author': author, 'rating': rev[1], 'date': date, 'title': rev[0], 'body': rev[4]}\n",
    "            r.append(aux)\n",
    "        return r\n",
    "    except:\n",
    "        return []\n",
    "\n",
    "df['reviews'] = df.apply(splitreviews, axis=1)"
   ]
  },
  {
   "cell_type": "code",
   "execution_count": 23,
   "metadata": {},
   "outputs": [],
   "source": [
    "df['store'] = \"amazon\"\n",
    "\n",
    "df['Id'] = [\"products/amazon/\" + str(x) for x in range(1, len(df) + 1)]\n",
    "\n",
    "df.drop(columns='id', inplace=True)"
   ]
  },
  {
   "cell_type": "code",
   "execution_count": 24,
   "metadata": {},
   "outputs": [],
   "source": [
    "df.to_csv('data/amazon/products.csv', encoding='utf-8', index=False)"
   ]
  },
  {
   "cell_type": "code",
   "execution_count": 25,
   "metadata": {},
   "outputs": [],
   "source": [
    "parsed = json.loads(df.to_json(orient=\"records\", default_handler=str))\n",
    "\n",
    "json_string = json.dumps(parsed, indent=4)\n",
    "with open('data/output/amazon.json', 'w') as outfile:\n",
    "    outfile.write(json_string)"
   ]
  }
 ],
 "metadata": {
  "interpreter": {
   "hash": "8ac5f14c271fb9d9ce5af4be951da16f6fbc3540c472bf4cbd3b50d26b8b6703"
  },
  "kernelspec": {
   "display_name": "Python 3.9.7 64-bit",
   "language": "python",
   "name": "python3"
  },
  "language_info": {
   "codemirror_mode": {
    "name": "ipython",
    "version": 3
   },
   "file_extension": ".py",
   "mimetype": "text/x-python",
   "name": "python",
   "nbconvert_exporter": "python",
   "pygments_lexer": "ipython3",
   "version": "3.9.7"
  },
  "orig_nbformat": 4
 },
 "nbformat": 4,
 "nbformat_minor": 2
}
