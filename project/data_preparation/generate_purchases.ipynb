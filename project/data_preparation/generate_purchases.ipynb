{
 "cells": [
  {
   "cell_type": "code",
   "execution_count": 1,
   "metadata": {},
   "outputs": [],
   "source": [
    "import pandas as pd\n",
    "import numpy as np\n",
    "import random\n",
    "import json\n",
    "from datetime import datetime"
   ]
  },
  {
   "cell_type": "code",
   "execution_count": 2,
   "metadata": {},
   "outputs": [],
   "source": [
    "df_am = pd.read_csv('data/amazon_mobiles/products.csv')\n",
    "df_a = pd.read_csv('data/amazon/products.csv')\n",
    "df_e = pd.read_csv('data/ecommerce/products.csv')\n",
    "df_f = pd.read_csv('data/flipkart/products.csv')\n",
    "df_j = pd.read_csv('data/jcpenney/products.csv')\n",
    "\n",
    "dfs = [df_am, df_a, df_e, df_f, df_j]"
   ]
  },
  {
   "cell_type": "code",
   "execution_count": 3,
   "metadata": {},
   "outputs": [],
   "source": [
    "conj = []\n",
    "for df in dfs:\n",
    "    conj += df.to_dict(orient='records')"
   ]
  },
  {
   "cell_type": "code",
   "execution_count": 4,
   "metadata": {},
   "outputs": [
    {
     "data": {
      "text/plain": [
       "0        None\n",
       "1        None\n",
       "2        None\n",
       "3        None\n",
       "4        None\n",
       "         ... \n",
       "10608    None\n",
       "10609    None\n",
       "10610    None\n",
       "10611    None\n",
       "10612    None\n",
       "Name: Id, Length: 10613, dtype: object"
      ]
     },
     "execution_count": 4,
     "metadata": {},
     "output_type": "execute_result"
    }
   ],
   "source": [
    "ids = []\n",
    "df_am['Id'].apply(lambda x: ids.append((x, 0)))\n",
    "df_a['Id'].apply(lambda x: ids.append((x, 1)))\n",
    "df_e['Id'].apply(lambda x: ids.append((x, 2)))\n",
    "df_f['Id'].apply(lambda x: ids.append((x, 3)))\n",
    "df_j['Id'].apply(lambda x: ids.append((x, 4)))"
   ]
  },
  {
   "cell_type": "code",
   "execution_count": 5,
   "metadata": {},
   "outputs": [],
   "source": [
    "df = pd.DataFrame()\n",
    "df['Id'] = [\"purchases/\" + str(x) for x in range(1, 100001)]\n",
    "df['client'] = [\"clients/\" + str(x) for x in np.random.randint(1, 100000, df.shape[0])]\n",
    "df['lines'], df['total'], df['orderDate'] = None, None, None"
   ]
  },
  {
   "cell_type": "code",
   "execution_count": 6,
   "metadata": {},
   "outputs": [],
   "source": [
    "def parseDate(date):\n",
    "    date = date.replace('Z', '')\n",
    "    test_date = datetime.strptime(date, \"%Y-%m-%d %X\")\n",
    "    return test_date.isoformat()\n",
    "\n",
    "date_df = pd.read_csv('data/dates.csv')\n",
    "date_df['date'] = date_df['date'].map(lambda x: parseDate(x))\n",
    "dates = date_df.date"
   ]
  },
  {
   "cell_type": "code",
   "execution_count": 7,
   "metadata": {},
   "outputs": [
    {
     "data": {
      "text/plain": [
       "{'lines': [{'quantity': 1,\n",
       "   'productId': 'products/jcpenney/7028',\n",
       "   'productName': 'Alfred Dunner® Chambray Pants - Petite',\n",
       "   'unitPrice': 53.57,\n",
       "   'price': 53.57,\n",
       "   'store': 'jcpenney'},\n",
       "  {'quantity': 9,\n",
       "   'productId': 'products/jcpenney/8495',\n",
       "   'productName': 'Hope Chest 2-Pack Curtain Panels',\n",
       "   'unitPrice': 223.39,\n",
       "   'price': 2010.5099999999998,\n",
       "   'store': 'jcpenney'},\n",
       "  {'quantity': 1,\n",
       "   'productId': 'products/jcpenney/1706',\n",
       "   'productName': 'MAKE UP FOR EVER Chromatic Mix',\n",
       "   'unitPrice': 207.8,\n",
       "   'price': 207.8,\n",
       "   'store': 'jcpenney'},\n",
       "  {'quantity': 7,\n",
       "   'productId': 'products/flipkart/169',\n",
       "   'productName': 'Salt N Pepper 13-019 Femme Taupe Boots Boots',\n",
       "   'unitPrice': 4195.0,\n",
       "   'price': 29365.0,\n",
       "   'store': 'flipkart'}],\n",
       " 'total': 31636.88,\n",
       " 'orderDate': '2019-06-19T19:15:22'}"
      ]
     },
     "execution_count": 7,
     "metadata": {},
     "output_type": "execute_result"
    }
   ],
   "source": [
    "def makeLine():\n",
    "    # id = random.choice(ids)\n",
    "    product = random.choice(conj)\n",
    "    quantity = random.randint(1, 10)\n",
    "    return {\n",
    "        \"quantity\": quantity,\n",
    "        \"productId\": product['Id'],\n",
    "        \"productName\": product['name'],\n",
    "        \"unitPrice\": product['price'],\n",
    "        \"price\": product['price'] * quantity,\n",
    "        \"store\": product['store']\n",
    "    }\n",
    "\n",
    "def makeOrder():\n",
    "    lines = [makeLine() for i in range(random.randrange(1, 10))]\n",
    "    # return [lines, round(sum(line['price'] for line in lines), ndigits=2), random.choice(dates)]\n",
    "    return {\n",
    "        \"lines\": lines,\n",
    "        \"total\": round(sum(line['price'] for line in lines), ndigits=2),\n",
    "        \"orderDate\": random.choice(dates)\n",
    "    }\n",
    "\n",
    "makeOrder()"
   ]
  },
  {
   "cell_type": "code",
   "execution_count": 8,
   "metadata": {},
   "outputs": [],
   "source": [
    "for idx, row in df.iterrows():\n",
    "    order = makeOrder()\n",
    "    row['lines'] = order['lines']\n",
    "    row['total'] = order['total']\n",
    "    row['orderDate'] = order['orderDate']\n",
    "    # row['lines'], row['total'], row['orderDate'] = makeOrder()"
   ]
  },
  {
   "cell_type": "code",
   "execution_count": null,
   "metadata": {},
   "outputs": [],
   "source": [
    "result = df.to_json(orient=\"records\", default_handler=str)\n",
    "parsed = json.loads(result)\n",
    "json_string = json.dumps(parsed, indent=4)\n",
    "with open('data/purchases.json', 'w') as outfile:\n",
    "    outfile.write(json_string)"
   ]
  }
 ],
 "metadata": {
  "interpreter": {
   "hash": "ca02d05c83cb06a4d3d1bb3c2ad95bd9ee4b26f688526444572dc942a69d580d"
  },
  "kernelspec": {
   "display_name": "Python 3.9.7 ('base')",
   "language": "python",
   "name": "python3"
  },
  "language_info": {
   "codemirror_mode": {
    "name": "ipython",
    "version": 3
   },
   "file_extension": ".py",
   "mimetype": "text/x-python",
   "name": "python",
   "nbconvert_exporter": "python",
   "pygments_lexer": "ipython3",
   "version": "3.9.7"
  },
  "orig_nbformat": 4
 },
 "nbformat": 4,
 "nbformat_minor": 2
}
