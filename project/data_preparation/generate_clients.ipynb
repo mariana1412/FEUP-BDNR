{
 "cells": [
  {
   "cell_type": "code",
   "execution_count": 23,
   "metadata": {},
   "outputs": [],
   "source": [
    "from datetime import datetime\n",
    "import pandas as pd\n",
    "import json"
   ]
  },
  {
   "cell_type": "code",
   "execution_count": 19,
   "metadata": {},
   "outputs": [
    {
     "data": {
      "text/html": [
       "<div>\n",
       "<style scoped>\n",
       "    .dataframe tbody tr th:only-of-type {\n",
       "        vertical-align: middle;\n",
       "    }\n",
       "\n",
       "    .dataframe tbody tr th {\n",
       "        vertical-align: top;\n",
       "    }\n",
       "\n",
       "    .dataframe thead th {\n",
       "        text-align: right;\n",
       "    }\n",
       "</style>\n",
       "<table border=\"1\" class=\"dataframe\">\n",
       "  <thead>\n",
       "    <tr style=\"text-align: right;\">\n",
       "      <th></th>\n",
       "      <th>id</th>\n",
       "      <th>name</th>\n",
       "      <th>birthdate</th>\n",
       "      <th>joined</th>\n",
       "    </tr>\n",
       "  </thead>\n",
       "  <tbody>\n",
       "    <tr>\n",
       "      <th>0</th>\n",
       "      <td>1</td>\n",
       "      <td>Julius Edwards</td>\n",
       "      <td>1951-06-22 20:28:01Z</td>\n",
       "      <td>2015-07-17 19:44:45Z</td>\n",
       "    </tr>\n",
       "    <tr>\n",
       "      <th>1</th>\n",
       "      <td>2</td>\n",
       "      <td>Camila Whitehouse</td>\n",
       "      <td>1948-01-27 02:33:41Z</td>\n",
       "      <td>2013-01-30 15:54:55Z</td>\n",
       "    </tr>\n",
       "    <tr>\n",
       "      <th>2</th>\n",
       "      <td>3</td>\n",
       "      <td>Adelaide Walter</td>\n",
       "      <td>1942-12-10 00:19:52Z</td>\n",
       "      <td>2013-01-12 20:42:28Z</td>\n",
       "    </tr>\n",
       "    <tr>\n",
       "      <th>3</th>\n",
       "      <td>4</td>\n",
       "      <td>Christine Atkinson</td>\n",
       "      <td>1957-10-15 13:56:14Z</td>\n",
       "      <td>2015-03-15 16:16:13Z</td>\n",
       "    </tr>\n",
       "    <tr>\n",
       "      <th>4</th>\n",
       "      <td>5</td>\n",
       "      <td>Juliet Herbert</td>\n",
       "      <td>1942-09-05 16:22:40Z</td>\n",
       "      <td>2015-08-04 11:50:00Z</td>\n",
       "    </tr>\n",
       "    <tr>\n",
       "      <th>...</th>\n",
       "      <td>...</td>\n",
       "      <td>...</td>\n",
       "      <td>...</td>\n",
       "      <td>...</td>\n",
       "    </tr>\n",
       "    <tr>\n",
       "      <th>99995</th>\n",
       "      <td>99996</td>\n",
       "      <td>Darlene Morrison</td>\n",
       "      <td>1941-04-12 18:57:01Z</td>\n",
       "      <td>2017-05-05 17:28:50Z</td>\n",
       "    </tr>\n",
       "    <tr>\n",
       "      <th>99996</th>\n",
       "      <td>99997</td>\n",
       "      <td>Margaret Clarkson</td>\n",
       "      <td>1986-05-19 10:50:13Z</td>\n",
       "      <td>2015-11-13 01:19:43Z</td>\n",
       "    </tr>\n",
       "    <tr>\n",
       "      <th>99997</th>\n",
       "      <td>99998</td>\n",
       "      <td>Dani Clifton</td>\n",
       "      <td>1998-06-10 08:37:36Z</td>\n",
       "      <td>2013-01-08 00:13:00Z</td>\n",
       "    </tr>\n",
       "    <tr>\n",
       "      <th>99998</th>\n",
       "      <td>99999</td>\n",
       "      <td>Alan Cork</td>\n",
       "      <td>1980-10-25 21:41:04Z</td>\n",
       "      <td>2014-04-18 07:10:50Z</td>\n",
       "    </tr>\n",
       "    <tr>\n",
       "      <th>99999</th>\n",
       "      <td>100000</td>\n",
       "      <td>Lorraine Graham</td>\n",
       "      <td>1980-03-06 08:04:26Z</td>\n",
       "      <td>2013-12-13 15:28:25Z</td>\n",
       "    </tr>\n",
       "  </tbody>\n",
       "</table>\n",
       "<p>100000 rows × 4 columns</p>\n",
       "</div>"
      ],
      "text/plain": [
       "           id                name             birthdate                joined\n",
       "0           1      Julius Edwards  1951-06-22 20:28:01Z  2015-07-17 19:44:45Z\n",
       "1           2   Camila Whitehouse  1948-01-27 02:33:41Z  2013-01-30 15:54:55Z\n",
       "2           3     Adelaide Walter  1942-12-10 00:19:52Z  2013-01-12 20:42:28Z\n",
       "3           4  Christine Atkinson  1957-10-15 13:56:14Z  2015-03-15 16:16:13Z\n",
       "4           5      Juliet Herbert  1942-09-05 16:22:40Z  2015-08-04 11:50:00Z\n",
       "...       ...                 ...                   ...                   ...\n",
       "99995   99996    Darlene Morrison  1941-04-12 18:57:01Z  2017-05-05 17:28:50Z\n",
       "99996   99997   Margaret Clarkson  1986-05-19 10:50:13Z  2015-11-13 01:19:43Z\n",
       "99997   99998        Dani Clifton  1998-06-10 08:37:36Z  2013-01-08 00:13:00Z\n",
       "99998   99999           Alan Cork  1980-10-25 21:41:04Z  2014-04-18 07:10:50Z\n",
       "99999  100000     Lorraine Graham  1980-03-06 08:04:26Z  2013-12-13 15:28:25Z\n",
       "\n",
       "[100000 rows x 4 columns]"
      ]
     },
     "execution_count": 19,
     "metadata": {},
     "output_type": "execute_result"
    }
   ],
   "source": [
    "df = pd.read_json('data/clients.json')\n",
    "df"
   ]
  },
  {
   "cell_type": "code",
   "execution_count": 20,
   "metadata": {},
   "outputs": [],
   "source": [
    "def parseDate(date):\n",
    "    date = date.replace('Z', '')\n",
    "    test_date = datetime.strptime(date, \"%Y-%m-%d %X\")\n",
    "    return test_date.isoformat()"
   ]
  },
  {
   "cell_type": "code",
   "execution_count": 21,
   "metadata": {},
   "outputs": [],
   "source": [
    "df['birthdate'] = df['birthdate'].map(lambda x: parseDate(x))\n",
    "df['joined'] = df['joined'].map(lambda x: parseDate(x))"
   ]
  },
  {
   "cell_type": "code",
   "execution_count": null,
   "metadata": {},
   "outputs": [],
   "source": [
    "result = df.to_json(orient=\"records\", default_handler=str)\n",
    "parsed = json.loads(result)\n",
    "json_string = json.dumps(parsed, indent=4)\n",
    "with open('data/clients.json', 'w') as outfile:\n",
    "    outfile.write(json_string)"
   ]
  }
 ],
 "metadata": {
  "interpreter": {
   "hash": "ca02d05c83cb06a4d3d1bb3c2ad95bd9ee4b26f688526444572dc942a69d580d"
  },
  "kernelspec": {
   "display_name": "Python 3.9.7 ('base')",
   "language": "python",
   "name": "python3"
  },
  "language_info": {
   "codemirror_mode": {
    "name": "ipython",
    "version": 3
   },
   "file_extension": ".py",
   "mimetype": "text/x-python",
   "name": "python",
   "nbconvert_exporter": "python",
   "pygments_lexer": "ipython3",
   "version": "3.9.7"
  },
  "orig_nbformat": 4
 },
 "nbformat": 4,
 "nbformat_minor": 2
}
