{
 "cells": [
  {
   "cell_type": "code",
   "execution_count": 143,
   "metadata": {},
   "outputs": [],
   "source": [
    "import pandas as pd\n",
    "import numpy as np\n",
    "import json"
   ]
  },
  {
   "cell_type": "code",
   "execution_count": 144,
   "metadata": {},
   "outputs": [],
   "source": [
    "df = pd.read_csv('data/flipkart/flipkart.csv')"
   ]
  },
  {
   "cell_type": "code",
   "execution_count": 145,
   "metadata": {},
   "outputs": [],
   "source": [
    "df.drop(['product_url', 'pid', 'crawl_timestamp', 'discounted_price', 'is_FK_Advantage_product', 'overall_rating'], inplace=True, axis=1)\n",
    "df.rename(columns={'uniq_id': 'id', 'product_name': 'name', 'product_category_tree': 'category', 'retail_price': 'price', 'product_rating': 'rating'}, inplace=True)"
   ]
  },
  {
   "cell_type": "code",
   "execution_count": 146,
   "metadata": {},
   "outputs": [],
   "source": [
    "def parseProductSpecifications(row):\n",
    "    product_specification = row.product_specifications\n",
    "    try:\n",
    "        product_specification = product_specification.replace('{\"product_specification\"=>', '')\n",
    "        product_specification = product_specification[0:-1]\n",
    "        product_specification = product_specification.replace('=>', ':')\n",
    "        product_specification = eval(product_specification) #string to list\n",
    "\n",
    "        specifications = {}\n",
    "        aditional = []\n",
    "        for ps in product_specification:\n",
    "            value = ps['value']\n",
    "            if 'key' in ps.keys():\n",
    "                key = ps['key']\n",
    "                specifications[key] = value\n",
    "            else:\n",
    "                aditional.append(value)     \n",
    "        if len(aditional) != 0:\n",
    "            specifications['Aditional information'] = '; '.join(aditional)            \n",
    "            \n",
    "        return specifications\n",
    "    except:\n",
    "        return {}\n",
    "    \n",
    "\n",
    "df['product_specifications'] = df.apply(parseProductSpecifications, axis=1)"
   ]
  },
  {
   "cell_type": "code",
   "execution_count": 147,
   "metadata": {},
   "outputs": [],
   "source": [
    "def parseCategory(row):\n",
    "    cat = row.category[2:-2]\n",
    "    cat = cat.split(' >> ')\n",
    "    return cat\n",
    "\n",
    "df['category'] = df.apply(parseCategory, axis=1)"
   ]
  },
  {
   "cell_type": "code",
   "execution_count": 148,
   "metadata": {},
   "outputs": [],
   "source": [
    "def replaceRating(row):\n",
    "    if row.rating == 'No rating available':\n",
    "        return np.round(np.random.uniform(0.1, 5.0), 1)\n",
    "    return float(row.rating)\n",
    "    \n",
    "df['rating'] = df.apply(replaceRating, axis=1)"
   ]
  },
  {
   "cell_type": "code",
   "execution_count": 149,
   "metadata": {},
   "outputs": [],
   "source": [
    "def parseImage(row):\n",
    "    try:\n",
    "        image = eval(row.image)\n",
    "        if len(image) > 0:\n",
    "            return image[0]\n",
    "        return \"\"\n",
    "\n",
    "    except:\n",
    "        return \"\"\n",
    "\n",
    "\n",
    "df['image'] = df.apply(parseImage, axis=1)"
   ]
  },
  {
   "cell_type": "code",
   "execution_count": 150,
   "metadata": {},
   "outputs": [],
   "source": [
    "df['stock'] = np.random.randint(0, 300, df.shape[0])\n",
    "df['store'] = 'flipkart'"
   ]
  },
  {
   "cell_type": "code",
   "execution_count": 151,
   "metadata": {},
   "outputs": [],
   "source": [
    "df.to_csv('data/flipkart/products.csv', encoding='utf-8', index=False)"
   ]
  },
  {
   "cell_type": "code",
   "execution_count": null,
   "metadata": {},
   "outputs": [],
   "source": [
    "result = df.to_json(orient=\"records\", default_handler=str)\n",
    "parsed = json.loads(result)\n",
    "json_string = json.dumps(parsed, indent=4)\n",
    "with open('data/flipkart/products.json', 'w') as outfile:\n",
    "    outfile.write(json_string)"
   ]
  }
 ],
 "metadata": {
  "interpreter": {
   "hash": "e1e2229a1fa9870ee33783501b0558f0ddbc8a2ab996f1e23e75624c7e4b09f8"
  },
  "kernelspec": {
   "display_name": "Python 3.9.7 ('base')",
   "language": "python",
   "name": "python3"
  },
  "language_info": {
   "codemirror_mode": {
    "name": "ipython",
    "version": 3
   },
   "file_extension": ".py",
   "mimetype": "text/x-python",
   "name": "python",
   "nbconvert_exporter": "python",
   "pygments_lexer": "ipython3",
   "version": "3.9.7"
  },
  "orig_nbformat": 4
 },
 "nbformat": 4,
 "nbformat_minor": 2
}
