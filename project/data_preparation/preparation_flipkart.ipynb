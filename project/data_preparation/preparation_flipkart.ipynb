{
 "cells": [
  {
   "cell_type": "code",
   "execution_count": 96,
   "metadata": {},
   "outputs": [],
   "source": [
    "import pandas as pd\n",
    "import numpy as np"
   ]
  },
  {
   "cell_type": "code",
   "execution_count": 97,
   "metadata": {},
   "outputs": [],
   "source": [
    "df = pd.read_csv('datasets/flipkart/flipkart.csv')"
   ]
  },
  {
   "cell_type": "code",
   "execution_count": 98,
   "metadata": {},
   "outputs": [],
   "source": [
    "df.drop(['product_url', 'pid', 'crawl_timestamp', 'discounted_price', 'image', 'is_FK_Advantage_product', 'product_specifications', 'overall_rating'], inplace=True, axis=1)\n",
    "df.rename(columns={'uniq_id': 'id', 'product_name': 'name', 'product_category_tree': 'category', 'retail_price': 'price', 'product_rating': 'rating'}, inplace=True)"
   ]
  },
  {
   "cell_type": "code",
   "execution_count": 99,
   "metadata": {},
   "outputs": [],
   "source": [
    "def parseCategory(row):\n",
    "    cat = row.category[2:-2]\n",
    "    cat = cat.split(' >> ')\n",
    "    return cat\n",
    "\n",
    "df['category'] = df.apply(parseCategory, axis=1)"
   ]
  },
  {
   "cell_type": "code",
   "execution_count": 100,
   "metadata": {},
   "outputs": [],
   "source": [
    "def replaceRating(row):\n",
    "    if row.rating == 'No rating available':\n",
    "        return np.round(np.random.uniform(0.1, 5.0), 1)\n",
    "    return float(row.rating)\n",
    "    \n",
    "df['rating'] = df.apply(replaceRating, axis=1)"
   ]
  },
  {
   "cell_type": "code",
   "execution_count": 101,
   "metadata": {},
   "outputs": [],
   "source": [
    "df['stock'] = np.random.randint(0, 300, df.shape[0])\n",
    "df['store'] = 'flipkart'\n",
    "df['reviews'] = np.empty((len(df), 0)).tolist()"
   ]
  },
  {
   "cell_type": "code",
   "execution_count": 103,
   "metadata": {},
   "outputs": [],
   "source": [
    "df.to_csv('datasets/flipkart/products_flipkart.csv', encoding='utf-8', index=False)"
   ]
  }
 ],
 "metadata": {
  "interpreter": {
   "hash": "e1e2229a1fa9870ee33783501b0558f0ddbc8a2ab996f1e23e75624c7e4b09f8"
  },
  "kernelspec": {
   "display_name": "Python 3.9.7 ('base')",
   "language": "python",
   "name": "python3"
  },
  "language_info": {
   "codemirror_mode": {
    "name": "ipython",
    "version": 3
   },
   "file_extension": ".py",
   "mimetype": "text/x-python",
   "name": "python",
   "nbconvert_exporter": "python",
   "pygments_lexer": "ipython3",
   "version": "3.9.7"
  },
  "orig_nbformat": 4
 },
 "nbformat": 4,
 "nbformat_minor": 2
}
