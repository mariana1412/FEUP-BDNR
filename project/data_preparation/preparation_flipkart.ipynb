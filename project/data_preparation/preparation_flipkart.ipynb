{
 "cells": [
  {
   "cell_type": "code",
   "execution_count": 8,
   "metadata": {},
   "outputs": [],
   "source": [
    "import pandas as pd\n",
    "import numpy as np\n",
    "import json\n",
    "import random"
   ]
  },
  {
   "cell_type": "code",
   "execution_count": 9,
   "metadata": {},
   "outputs": [],
   "source": [
    "df = pd.read_csv('data/flipkart/flipkart.csv')"
   ]
  },
  {
   "cell_type": "code",
   "execution_count": 10,
   "metadata": {},
   "outputs": [],
   "source": [
    "df.drop(['product_url', 'pid', 'crawl_timestamp', 'discounted_price', 'is_FK_Advantage_product', 'overall_rating'], inplace=True, axis=1)\n",
    "df.rename(columns={'uniq_id': 'id', 'product_name': 'name', 'product_category_tree': 'category', 'retail_price': 'price', 'product_rating': 'rating'}, inplace=True)"
   ]
  },
  {
   "cell_type": "code",
   "execution_count": 11,
   "metadata": {},
   "outputs": [],
   "source": [
    "df.drop_duplicates(subset=['name'], inplace=True)"
   ]
  },
  {
   "cell_type": "code",
   "execution_count": 4,
   "metadata": {},
   "outputs": [],
   "source": [
    "def parseProductSpecifications(row):\n",
    "    product_specification = row.product_specifications\n",
    "    try:\n",
    "        product_specification = product_specification.replace('{\"product_specification\"=>', '')\n",
    "        product_specification = product_specification[0:-1]\n",
    "        product_specification = product_specification.replace('=>', ':')\n",
    "        product_specification = eval(product_specification) #string to list\n",
    "\n",
    "        specifications = {}\n",
    "        aditional = []\n",
    "        for ps in product_specification:\n",
    "            value = ps['value']\n",
    "            if 'key' in ps.keys():\n",
    "                key = ps['key']\n",
    "                specifications[key] = value\n",
    "            else:\n",
    "                aditional.append(value)     \n",
    "        if len(aditional) != 0:\n",
    "            specifications['Aditional information'] = '; '.join(aditional)            \n",
    "            \n",
    "        return specifications\n",
    "    except:\n",
    "        return {}\n",
    "    \n",
    "\n",
    "df['product_specifications'] = df.apply(parseProductSpecifications, axis=1)"
   ]
  },
  {
   "cell_type": "code",
   "execution_count": 5,
   "metadata": {},
   "outputs": [],
   "source": [
    "def parseCategory(row):\n",
    "    cat = row.category[2:-2]\n",
    "    cat = cat.split(' >> ')\n",
    "    return cat\n",
    "\n",
    "df['category'] = df.apply(parseCategory, axis=1)"
   ]
  },
  {
   "cell_type": "code",
   "execution_count": 6,
   "metadata": {},
   "outputs": [],
   "source": [
    "def replaceRating(row):\n",
    "    if row.rating == 'No rating available':\n",
    "        return np.round(np.random.uniform(0.1, 5.0), 1)\n",
    "    return float(row.rating)\n",
    "    \n",
    "df['rating'] = df.apply(replaceRating, axis=1)"
   ]
  },
  {
   "cell_type": "code",
   "execution_count": 7,
   "metadata": {},
   "outputs": [],
   "source": [
    "def parseImage(row):\n",
    "    try:\n",
    "        image = eval(row.image)\n",
    "        if len(image) > 0:\n",
    "            return image[0]\n",
    "        return \"\"\n",
    "\n",
    "    except:\n",
    "        return \"\"\n",
    "\n",
    "\n",
    "df['image'] = df.apply(parseImage, axis=1)"
   ]
  },
  {
   "cell_type": "code",
   "execution_count": 8,
   "metadata": {},
   "outputs": [],
   "source": [
    "df['stock'] = np.random.randint(0, 300, df.shape[0])\n",
    "df['store'] = 'flipkart'\n",
    "df['price'].fillna(random.uniform(0.01, 300), inplace=True)\n",
    "df['Id'] = [\"products/flipkart/\" + str(x) for x in range(1, len(df) + 1)]\n",
    "df.drop(columns='id', inplace=True)"
   ]
  },
  {
   "cell_type": "code",
   "execution_count": 9,
   "metadata": {},
   "outputs": [],
   "source": [
    "df.to_csv('data/flipkart/products.csv', encoding='utf-8', index=False)"
   ]
  },
  {
   "cell_type": "code",
   "execution_count": 10,
   "metadata": {},
   "outputs": [],
   "source": [
    "parsed = json.loads(df.to_json(orient=\"records\", default_handler=str))\n",
    "\n",
    "json_string = json.dumps(parsed, indent=4)\n",
    "with open('data/output/flipkart.json', 'w') as outfile:\n",
    "    outfile.write(json_string)"
   ]
  }
 ],
 "metadata": {
  "interpreter": {
   "hash": "8ac5f14c271fb9d9ce5af4be951da16f6fbc3540c472bf4cbd3b50d26b8b6703"
  },
  "kernelspec": {
   "display_name": "Python 3.9.7 64-bit",
   "language": "python",
   "name": "python3"
  },
  "language_info": {
   "codemirror_mode": {
    "name": "ipython",
    "version": 3
   },
   "file_extension": ".py",
   "mimetype": "text/x-python",
   "name": "python",
   "nbconvert_exporter": "python",
   "pygments_lexer": "ipython3",
   "version": "3.9.7"
  },
  "orig_nbformat": 4
 },
 "nbformat": 4,
 "nbformat_minor": 2
}
